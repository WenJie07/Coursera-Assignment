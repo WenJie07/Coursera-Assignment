{
 "cells": [
  {
   "cell_type": "markdown",
   "id": "44ecff32-4e20-4e6b-97d9-d6eeb381251e",
   "metadata": {},
   "source": [
    "Data Science Tools and Ecosystem"
   ]
  },
  {
   "cell_type": "markdown",
   "id": "c95aab6e-cca6-4919-b7b6-32926d048ae0",
   "metadata": {},
   "source": [
    "In this notebook, Data Science Tools and Ecosystem are summarized"
   ]
  },
  {
   "cell_type": "markdown",
   "id": "5ce9fbf9-e924-4733-afc9-9fc675919b86",
   "metadata": {},
   "source": [
    "**Objectives:**"
   ]
  },
  {
   "cell_type": "markdown",
   "id": "b3b790a5-0d9b-4ed1-b148-d8c39ca1d037",
   "metadata": {},
   "source": [
    "- List popular laguages for Data Science\n",
    "- List Commonly used libraries\n",
    "- List Data Science Tools"
   ]
  },
  {
   "cell_type": "markdown",
   "id": "3cdd9e99-b1be-4543-80c2-2b43131f7e50",
   "metadata": {},
   "source": [
    "Some of the popular languages that Data Scientists use are:"
   ]
  },
  {
   "cell_type": "markdown",
   "id": "ed68a2c1-840f-484e-9a89-3efbdf72b119",
   "metadata": {},
   "source": [
    "1. Python\n",
    "2. R\n",
    "3. SQL"
   ]
  },
  {
   "cell_type": "markdown",
   "id": "4831ded0-a48e-482c-91aa-fc9c5e4f5306",
   "metadata": {},
   "source": [
    "Some of the commonly used libraries used by Data Scientists include:"
   ]
  },
  {
   "cell_type": "markdown",
   "id": "f1df16a5-e369-412c-b599-904f1dc4f23a",
   "metadata": {},
   "source": [
    "1. TensorFlow\n",
    "2. SciPy\n",
    "3. NumPy"
   ]
  },
  {
   "cell_type": "markdown",
   "id": "1750b8be-9702-44b8-95df-73846fec5e26",
   "metadata": {},
   "source": [
    "| Data Science Tools |\n",
    "| ------------------- |\n",
    "| Jupyter Notebook |\n",
    "| Rstudio |\n",
    "| Spyder |"
   ]
  },
  {
   "cell_type": "markdown",
   "id": "3ced6d19-6b94-4122-ae35-06470d2050a5",
   "metadata": {},
   "source": [
    "### Below are a few examples of evaluating arithmetic expressions in Python"
   ]
  },
  {
   "cell_type": "code",
   "execution_count": 30,
   "id": "9fbf52c6-af2d-4551-a97d-19a5a9008752",
   "metadata": {},
   "outputs": [],
   "source": [
    "# This is a simple arithmetic expression to multiply then add integers"
   ]
  },
  {
   "cell_type": "code",
   "execution_count": 32,
   "id": "4f169983-c4c8-42b6-9176-1981cc251ed3",
   "metadata": {},
   "outputs": [
    {
     "data": {
      "text/plain": [
       "17"
      ]
     },
     "execution_count": 32,
     "metadata": {},
     "output_type": "execute_result"
    }
   ],
   "source": [
    "(3*4)+5"
   ]
  },
  {
   "cell_type": "code",
   "execution_count": 34,
   "id": "b8205b77-cf69-4645-bb10-bd84431a3374",
   "metadata": {},
   "outputs": [],
   "source": [
    "# This will convert 200 minutes to hours by diving by 60"
   ]
  },
  {
   "cell_type": "code",
   "execution_count": 36,
   "id": "97141aec-c1d5-43a2-b427-4d88a45a4ecd",
   "metadata": {},
   "outputs": [
    {
     "data": {
      "text/plain": [
       "3.3333333333333335"
      ]
     },
     "execution_count": 36,
     "metadata": {},
     "output_type": "execute_result"
    }
   ],
   "source": [
    "200/60"
   ]
  },
  {
   "cell_type": "markdown",
   "id": "1d45ed9f-5b6d-4464-ad7a-9a24c04a4570",
   "metadata": {},
   "source": [
    "## Author"
   ]
  },
  {
   "cell_type": "markdown",
   "id": "cd8dce7b-a985-452f-b7c3-464d56b9c3f3",
   "metadata": {},
   "source": [
    "Lee Wen Jie"
   ]
  },
  {
   "cell_type": "code",
   "execution_count": null,
   "id": "2a9dfc2e-baac-419f-8927-81bbd77b9339",
   "metadata": {},
   "outputs": [],
   "source": []
  }
 ],
 "metadata": {
  "kernelspec": {
   "display_name": "Python 3 (ipykernel)",
   "language": "python",
   "name": "python3"
  },
  "language_info": {
   "codemirror_mode": {
    "name": "ipython",
    "version": 3
   },
   "file_extension": ".py",
   "mimetype": "text/x-python",
   "name": "python",
   "nbconvert_exporter": "python",
   "pygments_lexer": "ipython3",
   "version": "3.12.4"
  }
 },
 "nbformat": 4,
 "nbformat_minor": 5
}
